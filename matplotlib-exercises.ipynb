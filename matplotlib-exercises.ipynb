{
 "cells": [
  {
   "cell_type": "markdown",
   "metadata": {
    "id": "QjqlxEmx18cE"
   },
   "source": [
    "# Matplotlib Practice\n",
    "\n",
    "This notebook offers a set of exercises to different tasks with Matplotlib.\n",
    "\n",
    "It should be noted there may be more than one different way to answer a question or complete an exercise.\n",
    "\n",
    "Different tasks will be detailed by comments or text.\n",
    "\n",
    "For further reference and resources, it's advised to check out the [Matplotlib documentation](https://matplotlib.org/3.1.1/contents.html).\n",
    "\n",
    "If you're stuck, don't forget, you can always search for a function, for example if you want to create a plot with `plt.subplots()`, search for [`plt.subplots()`](https://www.google.com/search?q=plt.subplots())."
   ]
  },
  {
   "cell_type": "code",
   "execution_count": null,
   "metadata": {
    "id": "EKrsw0gM18cJ"
   },
   "outputs": [],
   "source": [
    "# Import the pyplot module from matplotlib as plt and make sure \n",
    "# plots appear in the notebook using '%matplotlib inline'\n",
    "\n",
    "import matplotlib.pyplot as plt\n",
    "%matplotlib inline\n"
   ]
  },
  {
   "cell_type": "code",
   "execution_count": null,
   "metadata": {
    "id": "DeXjYCQb18cL"
   },
   "outputs": [],
   "source": [
    "# Create a simple plot using plt.plot()\n",
    "plt.plot()"
   ]
  },
  {
   "cell_type": "code",
   "execution_count": null,
   "metadata": {
    "id": "aZBYUoZt18cM"
   },
   "outputs": [],
   "source": [
    "# Plot a single Python list\n",
    "y = [2, 3, 5, 7, 11]\n",
    "plt.plot(y)"
   ]
  },
  {
   "cell_type": "code",
   "execution_count": null,
   "metadata": {
    "id": "P6H7Olgz18cM"
   },
   "outputs": [],
   "source": [
    "# Create two lists, one called X, one called y, each with 5 numbers in them\n",
    "X = [1, 2, 3, 4, 5]\n",
    "y = [2, 3, 5, 7, 11]\n"
   ]
  },
  {
   "cell_type": "code",
   "execution_count": null,
   "metadata": {
    "id": "4hB8g8Jc18cN"
   },
   "outputs": [],
   "source": [
    "# Plot X & y (the lists you've created)\n",
    "plt.plot(X, y)\n"
   ]
  },
  {
   "cell_type": "markdown",
   "metadata": {
    "id": "KMHx1l6S18cN"
   },
   "source": [
    "There's another way to create plots with Matplotlib, it's known as the object-orientated (OO) method. Let's try it."
   ]
  },
  {
   "cell_type": "code",
   "execution_count": null,
   "metadata": {
    "id": "-Zbe8jRs18cO"
   },
   "outputs": [],
   "source": [
    "# Create a plot using plt.subplots()\n",
    "fig, ax = plt.subplots()\n"
   ]
  },
  {
   "cell_type": "code",
   "execution_count": null,
   "metadata": {
    "id": "27-qJYs_18cP"
   },
   "outputs": [],
   "source": [
    "# Create a plot using plt.subplots() and then add X & y on the axes\n",
    "fig, ax = plt.subplots()\n",
    "ax.plot(X, y)\n"
   ]
  },
  {
   "cell_type": "markdown",
   "metadata": {
    "id": "Wpg9Jez918cQ"
   },
   "source": [
    "Now let's try a small matplotlib workflow."
   ]
  },
  {
   "cell_type": "code",
   "execution_count": null,
   "metadata": {
    "id": "z_0e4xVg18cS"
   },
   "outputs": [],
   "source": [
    "# Import and get matplotlib ready\n",
    "import matplotlib.pyplot as plt\n",
    "%matplotlib inline\n",
    "\n",
    "# Prepare data (create two lists of 5 numbers, X & y)\n",
    "X = [1, 2, 3, 4, 5]\n",
    "y = [2, 3, 5, 7, 11]\n",
    "\n",
    "# Setup figure and axes using plt.subplots()\n",
    "fig, ax = plt.subplots()\n",
    "\n",
    "# Add data (X, y) to axes\n",
    "ax.plot(X, y)\n",
    "\n",
    "# Customize plot by adding a title, xlabel and ylabel\n",
    "ax.set_title('My Plot')\n",
    "ax.set_xlabel('X-axis')\n",
    "ax.set_ylabel('Y-axis')\n",
    "\n",
    "# Save the plot to file using fig.savefig()\n",
    "fig.savefig('my_plot.png')\n"
   ]
  },
  {
   "cell_type": "markdown",
   "metadata": {
    "id": "93h_b1Xq18cS"
   },
   "source": [
    "Okay, this is a simple line plot, how about something a little different?\n",
    "\n",
    "To help us, we'll import NumPy."
   ]
  },
  {
   "cell_type": "code",
   "execution_count": null,
   "metadata": {
    "id": "TmJUunhX18cT"
   },
   "outputs": [],
   "source": [
    "# Import NumPy as np\n",
    "import numpy as np\n"
   ]
  },
  {
   "cell_type": "code",
   "execution_count": null,
   "metadata": {
    "id": "3gsVrqxU18cU"
   },
   "outputs": [],
   "source": [
    "# Create an array of 100 evenly spaced numbers between 0 and 100 using NumPy and save it to variable X\n",
    "X = np.linspace(0, 100, 100)\n"
   ]
  },
  {
   "cell_type": "code",
   "execution_count": null,
   "metadata": {
    "id": "K1qCDh8X18cU"
   },
   "outputs": [],
   "source": [
    "# Create a plot using plt.subplots() and plot X versus X^2 (X squared)\n",
    "fig, ax = plt.subplots()\n",
    "ax.plot(X, X**2)"
   ]
  },
  {
   "cell_type": "markdown",
   "metadata": {
    "id": "ysi7ChuI18cV"
   },
   "source": [
    "We'll start with scatter plots."
   ]
  },
  {
   "cell_type": "code",
   "execution_count": null,
   "metadata": {
    "id": "avjcxmGr18cV"
   },
   "outputs": [],
   "source": [
    "# Create a scatter plot of X versus the exponential of X (np.exp(X))\n",
    "fig, ax = plt.subplots()\n",
    "ax.scatter(X, np.exp(X))"
   ]
  },
  {
   "cell_type": "code",
   "execution_count": null,
   "metadata": {
    "id": "DgVj1YMH18cV"
   },
   "outputs": [],
   "source": [
    "# Create a scatter plot of X versus np.sin(X)\n",
    "fig, ax = plt.subplots()\n",
    "ax.scatter(X, np.sin(X))\n"
   ]
  },
  {
   "cell_type": "markdown",
   "metadata": {
    "id": "_D9UBMaZ18cW"
   },
   "source": [
    "How about we try another type of plot? This time let's look at a bar plot. First we'll make some data."
   ]
  },
  {
   "cell_type": "code",
   "execution_count": null,
   "metadata": {
    "id": "bkvoO3Sl18cW"
   },
   "outputs": [],
   "source": [
    "# Create a Python dictionary of 3 of your favourite foods with \n",
    "# The keys of the dictionary should be the food name and the values their price\n",
    "food_prices = {\"Pizza\": 10, \"Burger\": 7, \"Sushi\": 15}\n"
   ]
  },
  {
   "cell_type": "code",
   "execution_count": null,
   "metadata": {
    "id": "8F_Nr4KS18cX"
   },
   "outputs": [],
   "source": [
    "# Create a bar graph where the x-axis is the keys of the dictionary\n",
    "# and the y-axis is the values of the dictionary\n",
    "fig, ax = plt.subplots()\n",
    "ax.bar(food_prices.keys(), food_prices.values())\n",
    "\n",
    "# Add a title, xlabel and ylabel to the plot\n",
    "ax.set_title(\"Food Prices\")\n",
    "ax.set_xlabel(\"Food\")\n",
    "ax.set_ylabel(\"Price ($)\")\n"
   ]
  },
  {
   "cell_type": "code",
   "execution_count": null,
   "metadata": {
    "id": "QKC2aF1y18cX"
   },
   "outputs": [],
   "source": [
    "# Make the same plot as above, except this time make the bars go horizontal\n",
    "fig, ax = plt.subplots()\n",
    "ax.barh(list(food_prices.keys()), list(food_prices.values()))\n",
    "\n",
    "ax.set_title(\"Food Prices\")\n",
    "ax.set_xlabel(\"Price ($)\")\n",
    "ax.set_ylabel(\"Food\")\n"
   ]
  },
  {
   "cell_type": "markdown",
   "metadata": {
    "id": "DWlTgGFQ18cX"
   },
   "source": [
    "All this food plotting is making me hungry. But we've got a couple of plots to go.\n",
    "\n",
    "Let's see a histogram."
   ]
  },
  {
   "cell_type": "code",
   "execution_count": null,
   "metadata": {
    "id": "0Y0tZxYC18cY"
   },
   "outputs": [],
   "source": [
    "# Create a random NumPy array of 1000 normally distributed numbers using NumPy and save it to X\n",
    "X = np.random.randn(1000)\n",
    "\n",
    "# Create a histogram plot of X\n",
    "fig, ax = plt.subplots()\n",
    "ax.hist(X)\n"
   ]
  },
  {
   "cell_type": "code",
   "execution_count": null,
   "metadata": {
    "id": "rBNKQrfp18cY"
   },
   "outputs": [],
   "source": [
    "# Create a NumPy array of 1000 random numbers and save it to X\n",
    "X = np.random.rand(1000)\n",
    "\n",
    "# Create a histogram plot of X\n",
    "fig, ax = plt.subplots()\n",
    "ax.hist(X)\n"
   ]
  },
  {
   "cell_type": "markdown",
   "metadata": {
    "id": "5RCxD9dy18cY"
   },
   "source": [
    "Notice how the distributions (spread of data) are different. Why do they differ? \n",
    "\n",
    "What else can you find out about the normal distribution? \n",
    "\n",
    "Can you think of any other kinds of data which may be normally distributed?\n",
    "\n",
    "These questions aren't directly related to plotting or Matplotlib but they're helpful to think of.\n",
    "\n",
    "Now let's try make some subplots. A subplot is another name for a figure with multiple plots on it."
   ]
  },
  {
   "cell_type": "code",
   "execution_count": null,
   "metadata": {
    "id": "Ar0kUy0118cZ"
   },
   "outputs": [],
   "source": [
    "# Create an empty subplot with 2 rows and 2 columns (4 subplots total)\n",
    "fig, axes = plt.subplots(2, 2)\n"
   ]
  },
  {
   "cell_type": "markdown",
   "metadata": {
    "id": "VcYDIVRg18cZ"
   },
   "source": [
    "Notice how the subplot has multiple figures. Now let's add data to each axes."
   ]
  },
  {
   "cell_type": "code",
   "execution_count": null,
   "metadata": {
    "id": "KbysbBTl18cZ"
   },
   "outputs": [],
   "source": [
    "# Create the same plot as above with 2 rows and 2 columns and figsize of (10, 5)\n",
    "fig, axes = plt.subplots(2, 2, figsize=(10, 5))\n",
    "\n",
    "# Plot X versus X/2 on the top left axes\n",
    "axes[0, 0].plot(X, X / 2)\n",
    "\n",
    "# Plot a scatter plot of 10 random numbers on each axis on the top right subplot\n",
    "axes[0, 1].scatter(np.random.rand(10), np.random.rand(10))\n",
    "\n",
    "# Plot a bar graph of the favourite food keys and values on the bottom left subplot\n",
    "axes[1, 0].bar(food_prices.keys(), food_prices.values())\n",
    "\n",
    "# Plot a histogram of 1000 random normally distributed numbers on the bottom right subplot\n",
    "axes[1, 1].hist(np.random.randn(1000))\n",
    "\n",
    "# plt.tight_layout()"
   ]
  },
  {
   "cell_type": "markdown",
   "metadata": {
    "id": "dO48AhHP18ca"
   },
   "source": [
    "Woah. There's a lot going on there.\n",
    "\n",
    "Now we've seen how to plot with Matplotlib and data directly. Let's practice using Matplotlib to plot with pandas.\n",
    "\n",
    "First we'll need to import pandas and create a DataFrame work with."
   ]
  },
  {
   "cell_type": "code",
   "execution_count": null,
   "metadata": {
    "id": "JtGNkniS18ca"
   },
   "outputs": [],
   "source": [
    "# Import pandas as pd\n",
    "import pandas as pd\n"
   ]
  },
  {
   "cell_type": "code",
   "execution_count": null,
   "metadata": {
    "id": "y57ozz6h18ca"
   },
   "outputs": [],
   "source": [
    "# Import the 'car-sales.csv' file (from the github page of the course) into a DataFame called car_sales and view\n",
    "car_sales = pd.read_csv(\"https://raw.githubusercontent.com/mrdbourke/zero-to-mastery-ml/master/data/car-sales.csv\")\n",
    "car_sales.head()"
   ]
  },
  {
   "cell_type": "code",
   "execution_count": null,
   "metadata": {},
   "outputs": [],
   "source": [
    "# Try to plot the 'Price' column using the plot() function\n",
    "# car_sales[\"Price\"].plot()"
   ]
  },
  {
   "cell_type": "markdown",
   "metadata": {
    "id": "WiVUZgqb18cb"
   },
   "source": [
    "After trying the previous command, comment it out.\n",
    "\n",
    "Why doesn't it work? \n",
    "\n",
    "Hint: It's not numeric data.\n",
    "\n",
    "In the process of turning it to numeric data, let's create another column which adds the total amount of sales and another one which shows what date the car was sold.\n",
    "\n",
    "Hint: To add a column up cumulatively, look up the cumsum() function. And to create a column of dates, look up the date_range() function."
   ]
  },
  {
   "cell_type": "code",
   "execution_count": null,
   "metadata": {},
   "outputs": [],
   "source": [
    "# Remove the symbols, the final two numbers from the 'Price' column and convert it to numbers\n",
    "car_sales[\"Price\"] = car_sales[\"Price\"].astype(str).replace(r'[\\$,]', '', regex=True)  # Remove symbols\n",
    "car_sales[\"Price\"] = car_sales[\"Price\"].str[:-2].astype(float)  # Remove last two characters and convert to float\n",
    "\n"
   ]
  },
  {
   "cell_type": "code",
   "execution_count": null,
   "metadata": {
    "id": "54AU9msb18cc"
   },
   "outputs": [],
   "source": [
    "# Add a column called 'Total Sales' to car_sales which cumulatively adds the 'Price' column\n",
    "car_sales[\"Total Sales\"] = car_sales[\"Price\"].cumsum()\n",
    "\n",
    "# Add a column called 'Sale Date' which lists a series of successive dates starting from today (your today)\n",
    "car_sales[\"Sale Date\"] = pd.date_range(start=pd.Timestamp.today(), periods=len(car_sales), freq=\"D\")\n",
    "\n",
    "# View the car_sales DataFrame\n",
    "car_sales.head()"
   ]
  },
  {
   "cell_type": "markdown",
   "metadata": {
    "id": "glMP1Ojk18cc"
   },
   "source": [
    "Now we've got a numeric column (`Total Sales`) and a dates column (`Sale Date`), let's visualize them."
   ]
  },
  {
   "cell_type": "code",
   "execution_count": null,
   "metadata": {
    "id": "stkPtxQS18cc"
   },
   "outputs": [],
   "source": [
    "# Use the plot() function to plot the 'Sale Date' column versus the 'Total Sales' column\n",
    "car_sales.plot(x='Sale Date', y='Total Sales', title='Total Sales Over Time')\n"
   ]
  },
  {
   "cell_type": "code",
   "execution_count": null,
   "metadata": {
    "id": "vclosB5e18cc"
   },
   "outputs": [],
   "source": [
    "# Convert the 'Price' column to the integers\n",
    "car_sales[\"Price\"] = car_sales[\"Price\"].astype(int)\n",
    "\n",
    "\n",
    "# Create a scatter plot of the 'Odometer (KM)' and 'Price' column using the plot() function\n",
    "car_sales.plot.scatter(x='Odometer (KM)', y='Price', title='Price vs Odometer (KM)')\n"
   ]
  },
  {
   "cell_type": "code",
   "execution_count": null,
   "metadata": {
    "id": "dxu9HN5118cd"
   },
   "outputs": [],
   "source": [
    "# Create a NumPy array of random numbers of size (10, 4) and save it to X\n",
    "import numpy as np\n",
    "X = np.random.rand(10, 4)\n",
    "\n",
    "# Turn the NumPy array X into a DataFrame with columns called ['a', 'b', 'c', 'd']\n",
    "random_df = pd.DataFrame(X, columns=['a', 'b', 'c', 'd'])\n",
    "\n",
    "\n",
    "# Create a bar graph of the DataFrame\n",
    "random_df.plot(kind='bar', title='Random Data Bar Graph')\n"
   ]
  },
  {
   "cell_type": "code",
   "execution_count": null,
   "metadata": {
    "id": "YDbmOiIU18cd"
   },
   "outputs": [],
   "source": [
    "# Create a bar graph of the 'Make' and 'Odometer (KM)' columns in the car_sales DataFrame\n",
    "car_sales.groupby('Make')['Odometer (KM)'].mean().plot(kind='bar', title='Average Odometer (KM) by Make')\n"
   ]
  },
  {
   "cell_type": "code",
   "execution_count": null,
   "metadata": {
    "id": "BJ78F_d618cd"
   },
   "outputs": [],
   "source": [
    "# Create a histogram of the 'Odometer (KM)' column\n",
    "car_sales['Odometer (KM)'].plot(kind='hist', bins=30, title='Histogram of Odometer (KM)')\n"
   ]
  },
  {
   "cell_type": "code",
   "execution_count": null,
   "metadata": {
    "id": "dB5GvrNs18ce"
   },
   "outputs": [],
   "source": [
    "# Create a histogram of the 'Price' column with 20 bins\n",
    "car_sales['Price'].plot(kind='hist', bins=20, title='Histogram of Price')\n"
   ]
  },
  {
   "cell_type": "markdown",
   "metadata": {
    "id": "klmCJG0K18ce"
   },
   "source": [
    "Now we've seen a few examples of plotting directly from DataFrames using the `car_sales` dataset.\n",
    "\n",
    "Let's try using a different dataset."
   ]
  },
  {
   "cell_type": "code",
   "execution_count": null,
   "metadata": {
    "id": "0jvHvsWV18ce"
   },
   "outputs": [],
   "source": [
    "# Import \"heart-disease.csv\" (from the github page of the course) and save it to the variable \"heart_disease\"\n",
    "heart_disease = pd.read_csv(\"https://raw.githubusercontent.com/mrdbourke/zero-to-mastery-ml/master/data/heart-disease.csv\")\n"
   ]
  },
  {
   "cell_type": "code",
   "execution_count": null,
   "metadata": {
    "id": "Kr7H6vPY18ce"
   },
   "outputs": [],
   "source": [
    "# View the first 10 rows of the heart_disease DataFrame\n",
    "print(heart_disease.head(10))\n"
   ]
  },
  {
   "cell_type": "code",
   "execution_count": null,
   "metadata": {
    "id": "vvreD2lk18cf"
   },
   "outputs": [],
   "source": [
    "# Create a histogram of the \"age\" column with 50 bins\n",
    "plt.figure(figsize=(10, 6))\n",
    "plt.hist(heart_disease['age'], bins=50, color='skyblue', edgecolor='black')\n",
    "plt.title('Histogram of Age')\n",
    "plt.xlabel('Age')\n",
    "plt.ylabel('Frequency')\n",
    "plt.grid(axis='y', alpha=0.75)\n",
    "plt.show()"
   ]
  },
  {
   "cell_type": "code",
   "execution_count": null,
   "metadata": {
    "id": "W2rV8rBR18cf"
   },
   "outputs": [],
   "source": [
    "# Call plot.hist() on the heart_disease DataFrame and toggle the\n",
    "# \"subplots\" parameter to True\n",
    "num_columns = len(heart_disease.select_dtypes(include='number').columns)\n",
    "ncols = 3  \n",
    "nrows = (num_columns + ncols - 1) // ncols \n",
    "\n",
    "heart_disease.plot.hist(subplots=True, figsize=(10, nrows * 3), layout=(nrows, ncols), title='Histograms of Heart Disease Dataset')\n",
    "plt.tight_layout()  \n",
    "plt.show()"
   ]
  },
  {
   "cell_type": "markdown",
   "metadata": {
    "id": "LvUqa-BE18cf"
   },
   "source": [
    "That plot looks pretty squished. Let's change the figsize."
   ]
  },
  {
   "cell_type": "code",
   "execution_count": null,
   "metadata": {
    "id": "pUoXBffk18cf"
   },
   "outputs": [],
   "source": [
    "# Call the same line of code from above except change the \"figsize\" parameter\n",
    "# to be (10, 30)\n",
    "heart_disease.plot.hist(subplots=True, figsize=(10, 30), layout=(nrows, ncols), title='Histograms of Heart Disease Dataset')\n",
    "plt.tight_layout()  \n",
    "plt.show()"
   ]
  },
  {
   "cell_type": "markdown",
   "metadata": {
    "id": "JO_Kjhtb18cg"
   },
   "source": [
    "Now let's try comparing two variables versus the target variable.\n",
    "\n",
    "More specifially we'll see how age and cholesterol combined effect the target in **patients over 50 years old**.\n",
    "\n",
    "For this next challenge, we're going to be replicating the following plot:\n",
    "\n",
    "<img src=\"https://raw.githubusercontent.com/szbela87/ml_22_elteik/main/images/matplotlib-heart-disease-chol-age-plot.png\"/>"
   ]
  },
  {
   "cell_type": "code",
   "execution_count": null,
   "metadata": {
    "id": "wb2u7QIy18cg"
   },
   "outputs": [],
   "source": [
    "heart_disease = pd.read_csv(\"https://raw.githubusercontent.com/szbela87/ml_22_elteik/main/data/heart-disease.csv\")\n",
    "\n",
    "# Note: The method below is only one way of doing it, yours might be\n",
    "# slightly different\n",
    "\n",
    "# Create DataFrame with patients over 50 years old\n",
    "over_50 = heart_disease[heart_disease['age'] > 50]\n",
    "# Create the plot\n",
    "plt.figure(figsize=(12, 6))\n",
    "# Plot the data\n",
    "# scatter = plt.scatter(over_50['age'], over_50['chol'], c=over_50['target'], cmap='coolwarm', alpha=0.7)\n",
    "# scatter = plt.scatter(over_50['age'], over_50['chol'], color='blue', alpha=0.7)\n",
    "\n",
    "colors = np.where(over_50['target'] == 1, 'yellow', 'black')\n",
    "scatter = plt.scatter(over_50['age'], over_50['chol'], c=colors, alpha=0.7)\n",
    "\n",
    "# Customize the plot\n",
    "plt.title('Age and Cholesterol Levels in Patients Over 50 Years Old')\n",
    "plt.xlabel('Age')\n",
    "plt.ylabel('Cholesterol Level')\n",
    "plt.colorbar(scatter, label='Target Variable (0 = No Disease, 1 = Disease)')\n",
    "mean_age = over_50['age'].mean()\n",
    "mean_cholesterol = over_50['chol'].mean()\n",
    "plt.axvline(mean_age, color='red', linestyle='--', label='Mean Age')\n",
    "plt.axhline(mean_cholesterol, color='blue', linestyle='--', label='Mean Cholesterol')\n",
    "\n",
    "# Add a meanline\n",
    "mean_age = over_50['age'].mean()\n",
    "mean_cholesterol = over_50['chol'].mean()\n",
    "plt.legend()\n",
    "plt.tight_layout()\n",
    "plt.show()"
   ]
  },
  {
   "cell_type": "markdown",
   "metadata": {
    "id": "TW7u2eOv18cg"
   },
   "source": [
    "Beatiful, now you've created a plot of two different variables, let's change the style."
   ]
  },
  {
   "cell_type": "code",
   "execution_count": null,
   "metadata": {
    "id": "77cvzpV518ch"
   },
   "outputs": [],
   "source": [
    "# Check what styles are available under plt\n",
    "print(\"Available styles:\", plt.style.available)"
   ]
  },
  {
   "cell_type": "code",
   "execution_count": null,
   "metadata": {
    "id": "wxTwWAEy18ch"
   },
   "outputs": [],
   "source": [
    "heart_disease = pd.read_csv(\"https://raw.githubusercontent.com/szbela87/ml_22_elteik/main/data/heart-disease.csv\")\n",
    "\n",
    "# Change the style to use \"seaborn-whitegrid\"\n",
    "plt.style.use('seaborn-v0_8-whitegrid')\n",
    "\n",
    "# Step 5: Create the plot\n",
    "plt.figure(figsize=(12, 6))\n",
    "\n",
    "# Define colors based on the target variable\n",
    "colors = np.where(over_50['target'] == 1, 'black', 'white')\n",
    "\n",
    "# Step 6: Plot the data with custom colors\n",
    "scatter = plt.scatter(over_50['age'], over_50['chol'], c=colors, alpha=0.7)\n",
    "\n",
    "# Step 7: Customize the plot\n",
    "plt.title('Age and Cholesterol Levels in Patients Over 50 Years Old')\n",
    "plt.xlabel('Age')\n",
    "plt.ylabel('Cholesterol Level')\n",
    "\n",
    "# Step 8: Add a mean line for age and cholesterol\n",
    "mean_age = over_50['age'].mean()\n",
    "mean_cholesterol = over_50['chol'].mean()\n",
    "plt.axhline(mean_cholesterol, color='blue', linestyle='--', label='Mean Cholesterol')\n",
    "\n",
    "# Show the plot\n",
    "plt.tight_layout()\n",
    "plt.show()"
   ]
  },
  {
   "cell_type": "markdown",
   "metadata": {
    "id": "XCqEbXeg18ch"
   },
   "source": [
    "Now the style has been changed, we'll replot the same figure from above and see what it looks like.\n",
    "\n",
    "If you've changed the style correctly, it should look like the following:\n",
    "<img src=\"https://raw.githubusercontent.com/szbela87/ml_22_elteik/main/images/matplotlib-heart-disease-chol-age-plot-seaborn-whitegrid.png\"/>\n"
   ]
  },
  {
   "cell_type": "code",
   "execution_count": null,
   "metadata": {
    "id": "n57Zi7f518ci"
   },
   "outputs": [],
   "source": [
    "import pandas as pd\n",
    "import matplotlib.pyplot as plt\n",
    "import numpy as np\n",
    "\n",
    "heart_disease = pd.read_csv(\"https://raw.githubusercontent.com/szbela87/ml_22_elteik/main/data/heart-disease.csv\")\n",
    "over_50 = heart_disease[heart_disease['age'] > 50]\n",
    "\n",
    "plt.style.use('seaborn-v0_8-whitegrid')\n",
    "plt.figure(figsize=(12, 6))\n",
    "colors = np.where(over_50['target'] == 1, 'green', 'blue')\n",
    "scatter = plt.scatter(over_50['age'], over_50['chol'], c=colors, alpha=0.7)\n",
    "plt.title('Age and Cholesterol Levels in Patients Over 50 Years Old', fontsize=16)\n",
    "plt.xlabel('Age', fontsize=14)\n",
    "plt.ylabel('Cholesterol Level', fontsize=14)\n",
    "\n",
    "mean_age = over_50['age'].mean()\n",
    "mean_cholesterol = over_50['chol'].mean()\n",
    "plt.axvline(mean_age, color='purple', linestyle='--', label='Mean Age')\n",
    "plt.axhline(mean_cholesterol, color='orange', linestyle='--', label='Mean Cholesterol')\n",
    "plt.tight_layout()\n",
    "plt.show()\n"
   ]
  },
  {
   "cell_type": "markdown",
   "metadata": {
    "id": "bU-OD1ZQ18ci"
   },
   "source": [
    "Wonderful, you've changed the style of the plots and the figure is looking different but the dots aren't a very good colour.\n",
    "\n",
    "Let's change the `cmap` parameter of `scatter()` as well as the `color` parameter of `axhline()` to fix it.\n",
    "\n",
    "Completing this step correctly should result in a figure which looks like this:\n",
    "<img src=\"https://raw.githubusercontent.com/szbela87/ml_22_elteik/main/images/matplotlib-heart-disease-chol-age-plot-cmap-change.png\"/>"
   ]
  },
  {
   "cell_type": "code",
   "execution_count": null,
   "metadata": {
    "id": "InCXgRz418ci"
   },
   "outputs": [],
   "source": [
    "heart_disease = pd.read_csv(\"https://raw.githubusercontent.com/szbela87/ml_22_elteik/main/data/heart-disease.csv\")\n",
    "\n",
    "over_50 = heart_disease[heart_disease['age'] > 50]\n",
    "\n",
    "\n",
    "plt.figure(figsize=(12, 6))\n",
    "\n",
    "scatter = plt.scatter(over_50['age'], over_50['chol'], \n",
    "                      c=over_50['target'], cmap='winter', alpha=0.7)\n",
    "\n",
    "plt.title('Age and Cholesterol Levels in Patients Over 50 Years Old', fontsize=16)\n",
    "plt.xlabel('Age', fontsize=14)\n",
    "plt.ylabel('Cholesterol Level', fontsize=14)\n",
    "\n",
    "mean_age = over_50['age'].mean()\n",
    "mean_cholesterol = over_50['chol'].mean()\n",
    "plt.axvline(mean_age, color='purple', linestyle='--', label='Mean Age')\n",
    "plt.axhline(mean_cholesterol, color='red', linestyle='--', label='Mean Cholesterol')\n",
    "\n",
    "plt.colorbar(scatter, label='Target (1=Heart Disease, 0=No Heart Disease)')\n",
    "plt.legend()\n",
    "plt.tight_layout()\n",
    "plt.show()\n"
   ]
  },
  {
   "cell_type": "markdown",
   "metadata": {
    "id": "mZYlxLpT18cj"
   },
   "source": [
    "Beautiful! Now our figure has an upgraded color scheme let's save it to file."
   ]
  },
  {
   "cell_type": "code",
   "execution_count": null,
   "metadata": {
    "id": "2MQ8QqsZ18cj"
   },
   "outputs": [],
   "source": [
    "# Save the current figure using savefig(), the file name can be anything you want\n",
    "plt.savefig('age_cholesterol_plot.png')"
   ]
  },
  {
   "cell_type": "code",
   "execution_count": null,
   "metadata": {
    "id": "zELZBgRR18cj"
   },
   "outputs": [],
   "source": [
    "# Reset the figure by calling plt.subplots()\n",
    "fig, ax = plt.subplots(figsize=(12, 6))\n"
   ]
  },
  {
   "cell_type": "markdown",
   "metadata": {
    "id": "975_AsSn18cj"
   },
   "source": [
    "## Extensions\n",
    "\n",
    "For more exercises, check out the [Matplotlib tutorials page](https://matplotlib.org/3.1.1/tutorials/index.html). A good practice would be to read through it and for the parts you find interesting, add them into the end of this notebook.\n",
    "\n",
    "The next place you could go is the [Stack Overflow page for the top questions and answers for Matplotlib](https://stackoverflow.com/questions/tagged/matplotlib?sort=MostVotes&edited=true). Often, you'll find some of the most common and useful Matplotlib functions here. Don't forget to play around with the Stack Overflow filters! You'll likely find something helpful here.\n",
    "\n",
    "Finally, as always, remember, the best way to learn something new is to try it. And try it relentlessly. Always be asking yourself, \"is there a better way this data could be visualized so it's easier to understand?\""
   ]
  }
 ],
 "metadata": {
  "colab": {
   "provenance": []
  },
  "kernelspec": {
   "display_name": "Python 3 (ipykernel)",
   "language": "python",
   "name": "python3"
  },
  "language_info": {
   "codemirror_mode": {
    "name": "ipython",
    "version": 3
   },
   "file_extension": ".py",
   "mimetype": "text/x-python",
   "name": "python",
   "nbconvert_exporter": "python",
   "pygments_lexer": "ipython3",
   "version": "3.12.6"
  }
 },
 "nbformat": 4,
 "nbformat_minor": 4
}
