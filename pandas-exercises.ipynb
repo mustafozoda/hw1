{
 "cells": [
  {
   "cell_type": "markdown",
   "metadata": {
    "id": "W9kX2c3-GT0w"
   },
   "source": [
    "# Pandas Practice\n",
    "\n",
    "This notebook is dedicated to practicing different tasks with pandas.\n",
    "\n",
    "It should be noted there may be more than one different way to answer a question or complete an exercise.\n",
    "\n",
    "Exercises are based on (and directly taken from) the quick introduction to pandas notebook.\n",
    "\n",
    "Different tasks will be detailed by comments or text.\n",
    "\n",
    "For further reference and resources, it's advised to check out the [pandas documnetation](https://pandas.pydata.org/pandas-docs/stable/)."
   ]
  },
  {
   "cell_type": "code",
   "execution_count": null,
   "metadata": {
    "id": "a-H_77qFGT01"
   },
   "outputs": [],
   "source": [
    "# Import pandas\n",
    "import pandas as pd\n"
   ]
  },
  {
   "cell_type": "code",
   "execution_count": null,
   "metadata": {
    "id": "Fr_bkWDCGT03"
   },
   "outputs": [],
   "source": [
    "# Create a series of three different colours\n",
    "colours = pd.Series(['Red', 'Blue', 'Green'])"
   ]
  },
  {
   "cell_type": "code",
   "execution_count": null,
   "metadata": {
    "id": "CMkLHzDNGT03"
   },
   "outputs": [],
   "source": [
    "# View the series of different colours\n",
    "print(\"Colours Series:\")\n",
    "print(colours)"
   ]
  },
  {
   "cell_type": "code",
   "execution_count": null,
   "metadata": {
    "id": "lgZ7q54GGT04"
   },
   "outputs": [],
   "source": [
    "# Create a series of three different car types and view it\n",
    "car_types = pd.Series(['Sedan', 'SUV', 'Truck'])\n",
    "print(\"\\nCar Types Series:\")\n",
    "print(car_types)"
   ]
  },
  {
   "cell_type": "code",
   "execution_count": null,
   "metadata": {
    "id": "sew9CrKyGT04"
   },
   "outputs": [],
   "source": [
    "# Combine the Series of cars and colours into a DataFrame\n",
    "car_data = pd.DataFrame({\n",
    "    'Colour': colours,\n",
    "    'Car Type': car_types\n",
    "})\n"
   ]
  },
  {
   "cell_type": "code",
   "execution_count": null,
   "metadata": {
    "id": "mneK2DsGGT05"
   },
   "outputs": [],
   "source": [
    "# Import \"car-sales.csv\" from the github site of the lecture (or download it) and turn it into a DataFrame\n",
    "print(\"\\nCombined DataFrame:\")\n",
    "print(car_data)\n",
    "\n",
    "car_sales_df = pd.read_csv(\"https://raw.githubusercontent.com/szbela87/ml_22_elteik/main/data/car-sales.csv\")\n",
    "print(\"\\nCar Sales DataFrame:\")\n",
    "print(car_sales_df.head()) "
   ]
  },
  {
   "cell_type": "markdown",
   "metadata": {
    "id": "jDwm2iLJGT05"
   },
   "source": [
    "**Note:** Since you've imported `car-sales.csv` as a DataFrame, we'll now refer to this DataFrame as 'the car sales DataFrame'."
   ]
  },
  {
   "cell_type": "code",
   "execution_count": null,
   "metadata": {
    "id": "ihp0DT8CGT06"
   },
   "outputs": [],
   "source": [
    "# Export the DataFrame you created to a .csv file\n",
    "car_data.to_csv('car_data.csv', index=False)\n"
   ]
  },
  {
   "cell_type": "code",
   "execution_count": null,
   "metadata": {
    "id": "agJj3eZXGT07"
   },
   "outputs": [],
   "source": [
    "# Find the different datatypes of the car data DataFrame\n",
    "data_types = car_data.dtypes\n",
    "print(\"\\nData Types of Car Data DataFrame:\")\n",
    "print(data_types)"
   ]
  },
  {
   "cell_type": "code",
   "execution_count": null,
   "metadata": {
    "id": "Edl3BFpIGT07"
   },
   "outputs": [],
   "source": [
    "# Describe your current car sales DataFrame using describe()\n",
    "car_sales_description = car_sales_df.describe()\n",
    "print(\"\\nDescription of Car Sales DataFrame:\")\n",
    "print(car_sales_description)\n"
   ]
  },
  {
   "cell_type": "code",
   "execution_count": null,
   "metadata": {
    "id": "5cPEXuoJGT07"
   },
   "outputs": [],
   "source": [
    "# Get information about your DataFrame using info()\n",
    "car_sales_info = car_sales_df.info()\n",
    "print(\"\\nInformation about Car Sales DataFrame:\")\n",
    "print(car_sales_info)"
   ]
  },
  {
   "cell_type": "markdown",
   "metadata": {
    "id": "ZcUgEbAhGT08"
   },
   "source": [
    "What does it show you?"
   ]
  },
  {
   "cell_type": "code",
   "execution_count": null,
   "metadata": {
    "id": "tCuq6swFGT08"
   },
   "outputs": [],
   "source": [
    "# Create a Series of different numbers and find the mean of them\n",
    "numbers_series = pd.Series([5, 15, 25, 35, 45])\n",
    "mean_value = numbers_series.mean()\n",
    "print(\"Mean of the Numbers Series:\", mean_value)"
   ]
  },
  {
   "cell_type": "code",
   "execution_count": null,
   "metadata": {
    "id": "nsN76L88GT08"
   },
   "outputs": [],
   "source": [
    "# Create a Series of different numbers and find the sum of them\n",
    "sum_value = numbers_series.sum()\n",
    "print(\"Sum of the Numbers Series:\", sum_value)"
   ]
  },
  {
   "cell_type": "code",
   "execution_count": null,
   "metadata": {
    "id": "uP6xFz7aGT09"
   },
   "outputs": [],
   "source": [
    "car_sales = pd.read_csv(\"https://raw.githubusercontent.com/szbela87/ml_22_elteik/main/data/car-sales.csv\")\n",
    "# List out all the column names of the car sales DataFrame\n",
    "column_names = car_sales.columns.tolist()\n",
    "print(\"Column Names of the Car Sales DataFrame:\", column_names)"
   ]
  },
  {
   "cell_type": "code",
   "execution_count": null,
   "metadata": {
    "id": "Zn8P6qouGT09"
   },
   "outputs": [],
   "source": [
    "# Find the length of the car sales DataFrame\n",
    "length_of_dataframe = len(car_sales)\n",
    "print(\"Length of the Car Sales DataFrame:\", length_of_dataframe)\n"
   ]
  },
  {
   "cell_type": "code",
   "execution_count": null,
   "metadata": {
    "id": "_zjzOELjGT09"
   },
   "outputs": [],
   "source": [
    "# Show the first 5 rows of the car sales DataFrame\n",
    "first_5_rows = car_sales.head()\n",
    "print(\"\\nFirst 5 Rows of the Car Sales DataFrame:\\n\", first_5_rows)"
   ]
  },
  {
   "cell_type": "code",
   "execution_count": null,
   "metadata": {
    "id": "55x1yAYZGT09"
   },
   "outputs": [],
   "source": [
    "# Show the first 7 rows of the car sales DataFrame\n",
    "first_7_rows = car_sales.head(7)\n",
    "print(\"\\nFirst 7 Rows of the Car Sales DataFrame:\\n\", first_7_rows)"
   ]
  },
  {
   "cell_type": "code",
   "execution_count": null,
   "metadata": {
    "id": "bTYZNiF4GT09"
   },
   "outputs": [],
   "source": [
    "# Show the bottom 5 rows of the car sales DataFrame\n",
    "bottom_5_rows = car_sales.tail()\n",
    "print(\"\\nBottom 5 Rows of the Car Sales DataFrame:\\n\", bottom_5_rows)"
   ]
  },
  {
   "cell_type": "code",
   "execution_count": null,
   "metadata": {
    "id": "OxD9x9nlGT0-"
   },
   "outputs": [],
   "source": [
    "# Use .loc to select the row at index 3 of the car sales DataFrame\n",
    "row_at_index_3 = car_sales.loc[3]\n",
    "print(\"\\nRow at Index 3 of the Car Sales DataFrame:\\n\", row_at_index_3)"
   ]
  },
  {
   "cell_type": "code",
   "execution_count": null,
   "metadata": {
    "id": "VgVaiJ2kGT0-"
   },
   "outputs": [],
   "source": [
    "# Use .iloc to select the row at position 3 of the car sales DataFrame\n",
    "row_at_position_3 = car_sales.iloc[3]\n",
    "print(\"\\nRow at Position 3 of the Car Sales DataFrame:\\n\", row_at_position_3)"
   ]
  },
  {
   "cell_type": "markdown",
   "metadata": {
    "id": "84uwR5p6GT0_"
   },
   "source": [
    "Notice how they're the same? Why do you think this is?\n",
    "\n",
    "Check the pandas documentation for [.loc](https://pandas.pydata.org/pandas-docs/stable/reference/api/pandas.DataFrame.loc.html) and [.iloc](https://pandas.pydata.org/pandas-docs/stable/reference/api/pandas.DataFrame.iloc.html). Think about a different situation each could be used for and try them out."
   ]
  },
  {
   "cell_type": "code",
   "execution_count": null,
   "metadata": {
    "id": "q8ktCcXxGT0_"
   },
   "outputs": [],
   "source": [
    "# Select the \"Odometer (KM)\" column from the car sales DataFrame\n",
    "import pandas as pd\n",
    "import matplotlib.pyplot as plt\n",
    "\n",
    "%matplotlib inline \n",
    "odometer_column = car_sales[\"Odometer (KM)\"]"
   ]
  },
  {
   "cell_type": "code",
   "execution_count": null,
   "metadata": {
    "id": "7Bnqr5_7GT1A"
   },
   "outputs": [],
   "source": [
    "# Find the mean of the \"Odometer (KM)\" column in the car sales DataFrame\n",
    "mean_odometer = odometer_column.mean()\n",
    "print(\"Mean of Odometer (KM):\", mean_odometer)"
   ]
  },
  {
   "cell_type": "code",
   "execution_count": null,
   "metadata": {
    "id": "T06Yzxc5GT1A"
   },
   "outputs": [],
   "source": [
    "# Select the rows with over 100,000 kilometers on the Odometer\n",
    "high_odometer = car_sales[car_sales[\"Odometer (KM)\"] > 100000]\n",
    "print(\"\\nRows with over 100,000 kilometers on the Odometer:\\n\", high_odometer)"
   ]
  },
  {
   "cell_type": "code",
   "execution_count": null,
   "metadata": {
    "id": "Bjw5yBbBGT1A"
   },
   "outputs": [],
   "source": [
    "# Create a crosstab of the Make and Doors columns\n",
    "crosstab_make_doors = pd.crosstab(car_sales[\"Make\"], car_sales[\"Doors\"])\n",
    "print(\"\\nCrosstab of Make and Doors:\\n\", crosstab_make_doors)\n"
   ]
  },
  {
   "cell_type": "code",
   "execution_count": null,
   "metadata": {
    "id": "vNM3q4JnGT1A"
   },
   "outputs": [],
   "source": [
    "# Group columns of the car sales DataFrame by the Make column and find the average\n",
    "average_by_make = car_sales.groupby(\"Make\").mean(numeric_only=True)\n",
    "print(\"\\nAverage values grouped by Make:\\n\", average_by_make)"
   ]
  },
  {
   "cell_type": "code",
   "execution_count": null,
   "metadata": {
    "id": "BLQSDlTcGT1A"
   },
   "outputs": [],
   "source": [
    "# Import Matplotlib and create a plot of the Odometer column\n",
    "# Don't forget to use %matplotlib inline\n",
    "plt.figure(figsize=(10, 6))"
   ]
  },
  {
   "cell_type": "code",
   "execution_count": null,
   "metadata": {
    "id": "HFtcZzJKGT1B"
   },
   "outputs": [],
   "source": [
    "# Create a histogram of the Odometer column using hist()\n",
    "car_sales[\"Odometer (KM)\"].hist(bins=20)\n",
    "plt.title(\"Histogram of Odometer (KM)\")\n",
    "plt.xlabel(\"Odometer (KM)\")\n",
    "plt.ylabel(\"Frequency\")\n",
    "plt.show()"
   ]
  },
  {
   "cell_type": "code",
   "execution_count": null,
   "metadata": {
    "id": "5QNQmiIvGT1B"
   },
   "outputs": [],
   "source": [
    "# Try to plot the Price column using plot()\n",
    "plt.figure(figsize=(10, 6))\n",
    "car_sales[\"Price\"].plot(kind='line')\n",
    "plt.title(\"Price of Cars\")\n",
    "plt.xlabel(\"Index\")\n",
    "plt.ylabel(\"Price\")\n",
    "plt.show()"
   ]
  },
  {
   "cell_type": "markdown",
   "metadata": {
    "id": "uKK6kVKmGT1B"
   },
   "source": [
    "Why didn't it work? Can you think of a solution?\n",
    "\n",
    "You might want to search for \"how to convert a pandas string columb to numbers\".\n",
    "\n",
    "And if you're still stuck, check out this [Stack Overflow question and answer on turning a price column into integers](https://stackoverflow.com/questions/44469313/price-column-object-to-int-in-pandas).\n",
    "\n",
    "See how you can provide the example code there to the problem here."
   ]
  },
  {
   "cell_type": "code",
   "execution_count": null,
   "metadata": {},
   "outputs": [],
   "source": [
    "print(car_sales.dtypes)\n",
    "print(car_sales[\"Price\"].unique())\n",
    "car_sales['Price'] = car_sales['Price'].replace(r'[\\$,]', '', regex=True).astype(float)\n",
    "car_sales[\"Price\"] = car_sales[\"Price\"].astype(int)\n",
    "import matplotlib.pyplot as plt\n",
    "plt.figure(figsize=(10, 6))\n",
    "car_sales[\"Price\"].plot(kind='line')\n",
    "plt.title(\"Price of Cars\")\n",
    "plt.xlabel(\"Index\")\n",
    "plt.ylabel(\"Price\")\n",
    "plt.show()"
   ]
  },
  {
   "cell_type": "code",
   "execution_count": null,
   "metadata": {
    "id": "Y4frH3R4GT1B"
   },
   "outputs": [],
   "source": [
    "# Remove the punctuation from price column\n",
    "car_sales[\"Price\"] = car_sales[\"Price\"].replace(r'[\\$,]', '', regex=True)  # Use raw string\n"
   ]
  },
  {
   "cell_type": "code",
   "execution_count": null,
   "metadata": {
    "id": "pp2sLW_WGT1B"
   },
   "outputs": [],
   "source": [
    "# Check the changes to the price column\n",
    "print(\"Price after removing punctuation:\")\n",
    "print(car_sales[\"Price\"])"
   ]
  },
  {
   "cell_type": "code",
   "execution_count": null,
   "metadata": {
    "id": "j05k2GZVGT1C"
   },
   "outputs": [],
   "source": [
    "# Remove the two extra zeros at the end of the price column\n",
    "# car_sales[\"Price\"] = car_sales[\"Price\"].str[:-2]\n",
    "\n",
    "print(car_sales[\"Price\"].unique())\n",
    "car_sales[\"Price\"] = car_sales[\"Price\"] // 100 \n",
    "print(car_sales.head())"
   ]
  },
  {
   "cell_type": "code",
   "execution_count": null,
   "metadata": {
    "id": "By92i8glGT1C"
   },
   "outputs": [],
   "source": [
    "# Check the changes to the Price column\n",
    "print(\"\\nPrice after removing last two characters:\")\n",
    "print(car_sales[\"Price\"])"
   ]
  },
  {
   "cell_type": "code",
   "execution_count": null,
   "metadata": {
    "id": "JnJCit6cGT1C"
   },
   "outputs": [],
   "source": [
    "# Change the datatype of the Price column to integers\n",
    "car_sales['Price'] = car_sales['Price'].replace(r'[\\$,]', '', regex=True).astype(float)\n",
    "car_sales[\"Price\"] = car_sales[\"Price\"].astype(int)\n",
    "\n",
    "# Check the DataFrame to confirm the changes\n",
    "print(car_sales.head())\n"
   ]
  },
  {
   "cell_type": "code",
   "execution_count": null,
   "metadata": {
    "id": "zxT1CuaOGT1C"
   },
   "outputs": [],
   "source": [
    "# Lower the strings of the Make column\n",
    "car_sales[\"Make\"] = car_sales[\"Make\"].str.lower()\n",
    "print(\"\\nFinal DataFrame:\")\n",
    "print(car_sales)"
   ]
  },
  {
   "cell_type": "markdown",
   "metadata": {
    "id": "-x8BYwXgGT1D"
   },
   "source": [
    "If you check the car sales DataFrame, you'll notice the Make column hasn't been lowered.\n",
    "\n",
    "How could you make these changes permanent?\n",
    "\n",
    "Try it out."
   ]
  },
  {
   "cell_type": "code",
   "execution_count": null,
   "metadata": {
    "id": "pGDWbvHDGT1J"
   },
   "outputs": [],
   "source": [
    "# Make lowering the case of the Make column permanent\n",
    "car_sales[\"Make\"] = car_sales[\"Make\"].str.lower()"
   ]
  },
  {
   "cell_type": "code",
   "execution_count": null,
   "metadata": {
    "id": "nWSM-cJiGT1J"
   },
   "outputs": [],
   "source": [
    "# Check the car sales DataFrame\n",
    "print(car_sales)"
   ]
  },
  {
   "cell_type": "markdown",
   "metadata": {
    "id": "MbvWZRb8GT1J"
   },
   "source": [
    "Notice how the Make column stays lowered after reassigning.\n",
    "\n",
    "Now let's deal with missing data."
   ]
  },
  {
   "cell_type": "code",
   "execution_count": null,
   "metadata": {
    "id": "DFYed_xrGT1J"
   },
   "outputs": [],
   "source": [
    "# Import the car sales DataFrame with missing data (\"../data/car-sales-missing-data.csv\")\n",
    "car_sales_missing = pd.read_csv(\"https://raw.githubusercontent.com/szbela87/ml_22_elteik/main/data/car-sales-missing-data.csv\")\n",
    "\n",
    "# Check out the new DataFrame\n",
    "print(car_sales_missing)"
   ]
  },
  {
   "cell_type": "markdown",
   "metadata": {
    "id": "1AV35oKiGT1K"
   },
   "source": [
    "Notice the missing values are represented as `NaN` in pandas DataFrames.\n",
    "\n",
    "Let's try fill them."
   ]
  },
  {
   "cell_type": "code",
   "execution_count": null,
   "metadata": {
    "id": "k28b0moQGT1K"
   },
   "outputs": [],
   "source": [
    "# Fill the Odometer column missing values with the mean of the column inplace\n",
    "car_sales_missing['Odometer'] = car_sales_missing['Odometer'].fillna(car_sales_missing['Odometer'].mean())\n",
    "\n"
   ]
  },
  {
   "cell_type": "code",
   "execution_count": null,
   "metadata": {
    "id": "dkY7hK0IGT1K"
   },
   "outputs": [],
   "source": [
    "# View the car sales missing DataFrame and verify the changes\n",
    "print(car_sales_missing)\n"
   ]
  },
  {
   "cell_type": "code",
   "execution_count": null,
   "metadata": {
    "id": "UoC49DoUGT1K"
   },
   "outputs": [],
   "source": [
    "# Remove the rest of the missing data inplace\n",
    "car_sales_missing = car_sales_missing.dropna()\n"
   ]
  },
  {
   "cell_type": "code",
   "execution_count": null,
   "metadata": {
    "id": "tQPL_oukGT1L"
   },
   "outputs": [],
   "source": [
    "# Verify the missing values are removed by viewing the DataFrame\n",
    "print(car_sales_missing)\n"
   ]
  },
  {
   "cell_type": "markdown",
   "metadata": {
    "id": "GvdQiN_IGT1L"
   },
   "source": [
    "We'll now start to add columns to our DataFrame."
   ]
  },
  {
   "cell_type": "code",
   "execution_count": null,
   "metadata": {
    "id": "uWnDY9oQGT1L"
   },
   "outputs": [],
   "source": [
    "# Create a \"Seats\" column where every row has a value of 5\n",
    "import numpy as np\n",
    "car_sales_missing['Seats'] = 5"
   ]
  },
  {
   "cell_type": "code",
   "execution_count": null,
   "metadata": {
    "id": "3yS6Kw1QGT1L"
   },
   "outputs": [],
   "source": [
    "# Create a column called \"Engine Size\" with random values between 1.3 and 4.5\n",
    "# Remember: If you're doing it from a Python list, the list has to be the same length\n",
    "# as the DataFrame\n",
    "car_sales_missing['Engine Size'] = np.random.uniform(1.3, 4.5, size=len(car_sales_missing))\n"
   ]
  },
  {
   "cell_type": "code",
   "execution_count": null,
   "metadata": {
    "id": "eqDJhwctGT1M"
   },
   "outputs": [],
   "source": [
    "# Create a column which represents the price of a car per kilometer\n",
    "# Then view the DataFrame\n",
    "car_sales_missing['Price'] = car_sales_missing['Price'].replace(r'[\\$,]', '', regex=True).astype(float)\n",
    "car_sales_missing['Price per KM'] = car_sales_missing['Price'] / car_sales_missing['Odometer']\n",
    "print(car_sales_missing)"
   ]
  },
  {
   "cell_type": "code",
   "execution_count": null,
   "metadata": {
    "id": "8SoXeQlVGT1M"
   },
   "outputs": [],
   "source": [
    "# Remove the last column you added using .drop()\n",
    "car_sales_missing = car_sales_missing.drop(columns=['Price per KM'])"
   ]
  },
  {
   "cell_type": "code",
   "execution_count": null,
   "metadata": {
    "id": "ol1Jalk8GT1M"
   },
   "outputs": [],
   "source": [
    "# Shuffle the DataFrame using sample() with the frac parameter set to 1\n",
    "# Save the the shuffled DataFrame to a new variable\n",
    "shuffled_car_sales = car_sales_missing.sample(frac=1, random_state=42)\n",
    "print(shuffled_car_sales)"
   ]
  },
  {
   "cell_type": "markdown",
   "metadata": {
    "id": "wUjEyVRgGT1N"
   },
   "source": [
    "Notice how the index numbers get moved around. The [`sample()`](https://pandas.pydata.org/pandas-docs/stable/reference/api/pandas.DataFrame.sample.html) function is a great way to get random samples from your DataFrame. It's also another great way to shuffle the rows by setting `frac=1`."
   ]
  },
  {
   "cell_type": "code",
   "execution_count": null,
   "metadata": {
    "id": "mP96NiT6GT1N"
   },
   "outputs": [],
   "source": [
    "# Reset the indexes of the shuffled DataFrame\n",
    "shuffled_car_sales = car_sales_missing.sample(frac=1).reset_index(drop=True)\n",
    "print(shuffled_car_sales)"
   ]
  },
  {
   "cell_type": "markdown",
   "metadata": {
    "id": "o_rBWPpIGT1N"
   },
   "source": [
    "Notice the index numbers have been changed to have order (start from 0)."
   ]
  },
  {
   "cell_type": "code",
   "execution_count": null,
   "metadata": {
    "id": "rZdrTnx9GT1N"
   },
   "outputs": [],
   "source": [
    "# Change the Odometer values from kilometers to miles using a Lambda function\n",
    "# Then view the DataFrame\n",
    "shuffled_car_sales['Odometer'] = shuffled_car_sales['Odometer'].apply(lambda x: x * 0.621371)\n",
    "print(shuffled_car_sales)"
   ]
  },
  {
   "cell_type": "code",
   "execution_count": null,
   "metadata": {
    "id": "OHKQAl7LGT1O"
   },
   "outputs": [],
   "source": [
    "# Change the title of the Odometer (KM) to represent miles instead of kilometers\n",
    "shuffled_car_sales.rename(columns={'Odometer': 'Odometer (miles)'}, inplace=True)\n",
    "print(shuffled_car_sales)"
   ]
  },
  {
   "cell_type": "markdown",
   "metadata": {
    "id": "PGrEiW__GT1O"
   },
   "source": [
    "## Extensions\n",
    "\n",
    "For more exercises, check out the pandas documentation, particularly the [10-minutes to pandas section](https://pandas.pydata.org/pandas-docs/stable/user_guide/10min.html).\n",
    "Get hands-on with the code and see what it does.\n",
    "\n",
    "The next place you should check out are the [top questions and answers on Stack Overflow for pandas](https://stackoverflow.com/questions/tagged/pandas?sort=MostVotes&edited=true). Often, these contain some of the most useful and common pandas functions. Be sure to play around with the different filters!\n",
    "\n",
    "Finally, always remember, the best way to learn something new to is try it. Make mistakes. Ask questions, get things wrong, take note of the things you do most often. And don't worry if you keep making the same mistake, pandas has many ways to do the same thing and is a big library. So it'll likely take a while before you get the hang of it."
   ]
  }
 ],
 "metadata": {
  "colab": {
   "provenance": []
  },
  "kernelspec": {
   "display_name": "Python 3 (ipykernel)",
   "language": "python",
   "name": "python3"
  },
  "language_info": {
   "codemirror_mode": {
    "name": "ipython",
    "version": 3
   },
   "file_extension": ".py",
   "mimetype": "text/x-python",
   "name": "python",
   "nbconvert_exporter": "python",
   "pygments_lexer": "ipython3",
   "version": "3.12.6"
  }
 },
 "nbformat": 4,
 "nbformat_minor": 4
}
