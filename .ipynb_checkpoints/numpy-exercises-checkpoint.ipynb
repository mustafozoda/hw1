{
 "cells": [
  {
   "cell_type": "markdown",
   "metadata": {
    "id": "EOV5byrefTbh"
   },
   "source": [
    "# NumPy Practice\n",
    "\n",
    "This notebook offers a set of exercises for different tasks with NumPy.\n",
    "\n",
    "It should be noted there may be more than one different way to answer a question or complete an exercise.\n",
    "\n",
    "Exercises are based off (and directly taken from) the quick introduction to NumPy notebook.\n",
    "\n",
    "Different tasks will be detailed by comments or text.\n",
    "\n",
    "For further reference and resources, it's advised to check out the [NumPy documentation](https://numpy.org/devdocs/user/index.html).\n",
    "\n",
    "And if you get stuck, try searching for a question in the following format: \"how to do XYZ with numpy\", where XYZ is the function you want to leverage from NumPy."
   ]
  },
  {
   "cell_type": "code",
   "execution_count": 1,
   "metadata": {
    "id": "rP2TemrufTbm"
   },
   "outputs": [],
   "source": [
    "# Import NumPy as its abbreviation 'np'\n",
    "import numpy as np\n"
   ]
  },
  {
   "cell_type": "code",
   "execution_count": 3,
   "metadata": {
    "id": "iRCjyjIBfTbn"
   },
   "outputs": [
    {
     "name": "stdout",
     "output_type": "stream",
     "text": [
      "1D Array:\n",
      "[1 2 3 4 5]\n",
      "\n",
      "2D Array:\n",
      "[[1 2 3]\n",
      " [4 5 6]]\n",
      "\n",
      "3D Array:\n",
      "[[[1 2]\n",
      "  [3 4]]\n",
      "\n",
      " [[5 6]\n",
      "  [7 8]]]\n"
     ]
    }
   ],
   "source": [
    "# Create a 1-dimensional NumPy array using np.array()\n",
    "array_1d = np.array([1, 2, 3, 4, 5])\n",
    "print(\"1D Array:\")\n",
    "print(array_1d)\n",
    "\n",
    "# Create a 2-dimensional NumPy array using np.array()\n",
    "array_2d = np.array([[1, 2, 3], [4, 5, 6]])\n",
    "print(\"\\n2D Array:\")\n",
    "print(array_2d)\n",
    "\n",
    "# Create a 3-dimensional Numpy array using np.array()\n",
    "array_3d = np.array([[[1, 2], [3, 4]], [[5, 6], [7, 8]]])\n",
    "print(\"\\n3D Array:\")\n",
    "print(array_3d)"
   ]
  },
  {
   "cell_type": "markdown",
   "metadata": {
    "id": "XOA6CnQ7fTbo"
   },
   "source": [
    "Now we've you've created 3 different arrays, let's find details about them.\n",
    "\n",
    "Find the shape, number of dimensions, data type, size and type of each array."
   ]
  },
  {
   "cell_type": "code",
   "execution_count": 4,
   "metadata": {
    "id": "UrcSIV3YfTbp"
   },
   "outputs": [
    {
     "name": "stdout",
     "output_type": "stream",
     "text": [
      "1D Array Attributes:\n",
      "Shape: (5,)\n",
      "Number of dimensions: 1\n",
      "Data type: int64\n",
      "Size: 5\n",
      "Type: <class 'numpy.ndarray'>\n"
     ]
    }
   ],
   "source": [
    "# Attributes of 1-dimensional array (shape,\n",
    "# number of dimensions, data type, size and type)\n",
    "array_1d = np.array([1, 2, 3, 4, 5])\n",
    "print(\"1D Array Attributes:\")\n",
    "print(\"Shape:\", array_1d.shape)\n",
    "print(\"Number of dimensions:\", array_1d.ndim)\n",
    "print(\"Data type:\", array_1d.dtype)\n",
    "print(\"Size:\", array_1d.size)\n",
    "print(\"Type:\", type(array_1d))"
   ]
  },
  {
   "cell_type": "code",
   "execution_count": 6,
   "metadata": {
    "id": "onCJlXDFfTbp"
   },
   "outputs": [
    {
     "name": "stdout",
     "output_type": "stream",
     "text": [
      "\n",
      "2D Array Attributes:\n",
      "Shape: (2, 3)\n",
      "Number of dimensions: 2\n",
      "Data type: int64\n",
      "Size: 6\n",
      "Type: <class 'numpy.ndarray'>\n"
     ]
    }
   ],
   "source": [
    "# Attributes of 2-dimensional array\n",
    "array_2d = np.array([[1, 2, 3], [4, 5, 6]])\n",
    "\n",
    "print(\"\\n2D Array Attributes:\")\n",
    "print(\"Shape:\", array_2d.shape)\n",
    "print(\"Number of dimensions:\", array_2d.ndim)\n",
    "print(\"Data type:\", array_2d.dtype)\n",
    "print(\"Size:\", array_2d.size)\n",
    "print(\"Type:\", type(array_2d))"
   ]
  },
  {
   "cell_type": "code",
   "execution_count": 7,
   "metadata": {
    "id": "2slFyjo3fTbq"
   },
   "outputs": [
    {
     "name": "stdout",
     "output_type": "stream",
     "text": [
      "\n",
      "3D Array Attributes:\n",
      "Shape: (2, 2, 2)\n",
      "Number of dimensions: 3\n",
      "Data type: int64\n",
      "Size: 8\n",
      "Type: <class 'numpy.ndarray'>\n"
     ]
    }
   ],
   "source": [
    "# Attributes of 3-dimensional array\n",
    "array_3d = np.array([[[1, 2], [3, 4]], [[5, 6], [7, 8]]])\n",
    "print(\"\\n3D Array Attributes:\")\n",
    "print(\"Shape:\", array_3d.shape)\n",
    "print(\"Number of dimensions:\", array_3d.ndim)\n",
    "print(\"Data type:\", array_3d.dtype)\n",
    "print(\"Size:\", array_3d.size)\n",
    "print(\"Type:\", type(array_3d))"
   ]
  },
  {
   "cell_type": "code",
   "execution_count": 10,
   "metadata": {
    "id": "exgtbnULfTbr"
   },
   "outputs": [],
   "source": [
    "# Import pandas and create a DataFrame out of one\n",
    "# of the arrays you've created\n",
    "import pandas as pd\n",
    "\n",
    "df_array_2d = pd.DataFrame(array_2d)\n",
    "print(\"\\nDataFrame from 2D Array:\")\n",
    "print(df_array_2d)"
   ]
  },
  {
   "cell_type": "code",
   "execution_count": 11,
   "metadata": {
    "id": "eHU-sRg7fTbr"
   },
   "outputs": [
    {
     "name": "stdout",
     "output_type": "stream",
     "text": [
      "\n",
      "Array of ones with shape (10, 2):\n",
      "[[1. 1.]\n",
      " [1. 1.]\n",
      " [1. 1.]\n",
      " [1. 1.]\n",
      " [1. 1.]\n",
      " [1. 1.]\n",
      " [1. 1.]\n",
      " [1. 1.]\n",
      " [1. 1.]\n",
      " [1. 1.]]\n"
     ]
    }
   ],
   "source": [
    "# Create an array of shape (10, 2) with only ones\n",
    "ones_array = np.ones((10, 2))\n",
    "print(\"\\nArray of ones with shape (10, 2):\")\n",
    "print(ones_array)\n"
   ]
  },
  {
   "cell_type": "code",
   "execution_count": 12,
   "metadata": {
    "id": "rvpADRFPfTbs"
   },
   "outputs": [
    {
     "name": "stdout",
     "output_type": "stream",
     "text": [
      "\n",
      "Array of zeros with shape (7, 2, 3):\n",
      "[[[0. 0. 0.]\n",
      "  [0. 0. 0.]]\n",
      "\n",
      " [[0. 0. 0.]\n",
      "  [0. 0. 0.]]\n",
      "\n",
      " [[0. 0. 0.]\n",
      "  [0. 0. 0.]]\n",
      "\n",
      " [[0. 0. 0.]\n",
      "  [0. 0. 0.]]\n",
      "\n",
      " [[0. 0. 0.]\n",
      "  [0. 0. 0.]]\n",
      "\n",
      " [[0. 0. 0.]\n",
      "  [0. 0. 0.]]\n",
      "\n",
      " [[0. 0. 0.]\n",
      "  [0. 0. 0.]]]\n"
     ]
    }
   ],
   "source": [
    "# Create an array of shape (7, 2, 3) of only zeros\n",
    "zeros_array = np.zeros((7, 2, 3))\n",
    "print(\"\\nArray of zeros with shape (7, 2, 3):\")\n",
    "print(zeros_array)\n"
   ]
  },
  {
   "cell_type": "code",
   "execution_count": 13,
   "metadata": {
    "id": "I1mFKeJrfTbs"
   },
   "outputs": [
    {
     "name": "stdout",
     "output_type": "stream",
     "text": [
      "\n",
      "Array within a range of 0 and 100 with step 3:\n",
      "[ 0  3  6  9 12 15 18 21 24 27 30 33 36 39 42 45 48 51 54 57 60 63 66 69\n",
      " 72 75 78 81 84 87 90 93 96 99]\n"
     ]
    }
   ],
   "source": [
    "# Create an array within a range of 0 and 100 with step 3\n",
    "range_array = np.arange(0, 100, 3)\n",
    "print(\"\\nArray within a range of 0 and 100 with step 3:\")\n",
    "print(range_array)"
   ]
  },
  {
   "cell_type": "code",
   "execution_count": 14,
   "metadata": {
    "id": "pTYrcaLzfTbt"
   },
   "outputs": [
    {
     "name": "stdout",
     "output_type": "stream",
     "text": [
      "\n",
      "Random array with numbers between 0 and 10 of size (7, 2):\n",
      "[[0 0]\n",
      " [0 2]\n",
      " [9 3]\n",
      " [1 3]\n",
      " [9 2]\n",
      " [9 3]\n",
      " [0 9]]\n"
     ]
    }
   ],
   "source": [
    "# Create a random array with numbers between 0 and 10 of size (7, 2)\n",
    "random_array_1 = np.random.randint(0, 10, size=(7, 2))\n",
    "print(\"\\nRandom array with numbers between 0 and 10 of size (7, 2):\")\n",
    "print(random_array_1)\n"
   ]
  },
  {
   "cell_type": "code",
   "execution_count": 15,
   "metadata": {
    "id": "d_eQKRVpfTbt"
   },
   "outputs": [
    {
     "name": "stdout",
     "output_type": "stream",
     "text": [
      "\n",
      "Random array of floats between 0 & 1 of shape (3, 5):\n",
      "[[0.44078638 0.58759293 0.11785823 0.63888012 0.14206111]\n",
      " [0.62209401 0.66831488 0.8502449  0.7527358  0.8943712 ]\n",
      " [0.07015244 0.21281157 0.71813178 0.30203716 0.48909186]]\n"
     ]
    }
   ],
   "source": [
    "# Create a random array of floats between 0 & 1 of shape (3, 5)\n",
    "random_float_array = np.random.rand(3, 5)\n",
    "print(\"\\nRandom array of floats between 0 & 1 of shape (3, 5):\")\n",
    "print(random_float_array)"
   ]
  },
  {
   "cell_type": "code",
   "execution_count": 16,
   "metadata": {
    "id": "z5xfXksmfTbt"
   },
   "outputs": [
    {
     "name": "stdout",
     "output_type": "stream",
     "text": [
      "\n",
      "Random array of numbers between 0 & 10 of size (4, 6):\n",
      "[[6 3 7 4 6 9]\n",
      " [2 6 7 4 3 7]\n",
      " [7 2 5 4 1 7]\n",
      " [5 1 4 0 9 5]]\n"
     ]
    }
   ],
   "source": [
    "# Set the random seed to 42\n",
    "np.random.seed(42)\n",
    "\n",
    "# Create a random array of numbers between 0 & 10 of size (4, 6)\n",
    "random_array_2 = np.random.randint(0, 10, size=(4, 6))\n",
    "print(\"\\nRandom array of numbers between 0 & 10 of size (4, 6):\")\n",
    "print(random_array_2)"
   ]
  },
  {
   "cell_type": "markdown",
   "metadata": {
    "id": "zO07aKlyfTbt"
   },
   "source": [
    "Run the cell above again, what happens?\n",
    "\n",
    "Are the numbers in the array different or the same? Why do think this is?"
   ]
  },
  {
   "cell_type": "code",
   "execution_count": 17,
   "metadata": {
    "id": "t7eij5DEfTbu"
   },
   "outputs": [
    {
     "name": "stdout",
     "output_type": "stream",
     "text": [
      "\n",
      "Random Array:\n",
      "[[ 9  1 10  3  7  4  9]\n",
      " [ 3  5  3  7  5  9  7]\n",
      " [ 2  4  9  2 10  9 10]]\n",
      "\n",
      "Unique Numbers in Random Array:\n",
      "[ 1  2  3  4  5  7  9 10]\n"
     ]
    }
   ],
   "source": [
    "# Create an array of random numbers between 1 & 10 of size (3, 7)\n",
    "# and save it to a variable\n",
    "random_array = np.random.randint(1, 11, size=(3, 7))\n",
    "print(\"\\nRandom Array:\")\n",
    "print(random_array)\n",
    "# Find the unique numbers in the array you just created\n",
    "unique_numbers = np.unique(random_array)\n",
    "print(\"\\nUnique Numbers in Random Array:\")\n",
    "print(unique_numbers)"
   ]
  },
  {
   "cell_type": "code",
   "execution_count": 18,
   "metadata": {
    "id": "L_i7QYE_fTbu"
   },
   "outputs": [
    {
     "name": "stdout",
     "output_type": "stream",
     "text": [
      "\n",
      "0th Index (First Row) of Random Array:\n",
      "[ 9  1 10  3  7  4  9]\n"
     ]
    }
   ],
   "source": [
    "# Find the 0'th index of the latest array you created\n",
    "zero_index_row = random_array[0]\n",
    "print(\"\\n0th Index (First Row) of Random Array:\")\n",
    "print(zero_index_row)"
   ]
  },
  {
   "cell_type": "code",
   "execution_count": 19,
   "metadata": {
    "id": "lvtvpKJ4fTbu"
   },
   "outputs": [
    {
     "name": "stdout",
     "output_type": "stream",
     "text": [
      "\n",
      "First 2 Rows of Random Array:\n",
      "[[ 9  1 10  3  7  4  9]\n",
      " [ 3  5  3  7  5  9  7]]\n"
     ]
    }
   ],
   "source": [
    "# Get the first 2 rows of latest array you created\n",
    "first_two_rows = random_array[:2]\n",
    "print(\"\\nFirst 2 Rows of Random Array:\")\n",
    "print(first_two_rows)"
   ]
  },
  {
   "cell_type": "code",
   "execution_count": 20,
   "metadata": {
    "id": "Hd6wcSTzfTbu"
   },
   "outputs": [
    {
     "name": "stdout",
     "output_type": "stream",
     "text": [
      "\n",
      "First 2 Values of First 2 Rows:\n",
      "[[9 1]\n",
      " [3 5]]\n"
     ]
    }
   ],
   "source": [
    "# Get the first 2 values of the first 2 rows of the latest array\n",
    "first_two_values = random_array[:2, :2]\n",
    "print(\"\\nFirst 2 Values of First 2 Rows:\")\n",
    "print(first_two_values)"
   ]
  },
  {
   "cell_type": "code",
   "execution_count": 22,
   "metadata": {
    "id": "-jPiYIIPfTbu"
   },
   "outputs": [
    {
     "name": "stdout",
     "output_type": "stream",
     "text": [
      "\n",
      "Random Array (3x5):\n",
      "[[3 5 1 9 1]\n",
      " [9 3 7 6 8]\n",
      " [7 4 1 4 7]]\n",
      "\n",
      "Ones Array (3x5):\n",
      "[[1. 1. 1. 1. 1.]\n",
      " [1. 1. 1. 1. 1.]\n",
      " [1. 1. 1. 1. 1.]]\n"
     ]
    }
   ],
   "source": [
    "# Create a random array of numbers between 0 & 10 and an array of ones\n",
    "# both of size (3, 5), save them both to variables\n",
    "random_array_2 = np.random.randint(0, 10, size=(3, 5))\n",
    "ones_array = np.ones((3, 5))\n",
    "print(\"\\nRandom Array (3x5):\")\n",
    "print(random_array_2)\n",
    "\n",
    "print(\"\\nOnes Array (3x5):\")\n",
    "print(ones_array)\n"
   ]
  },
  {
   "cell_type": "code",
   "execution_count": 23,
   "metadata": {
    "id": "gEwb99phfTbv"
   },
   "outputs": [
    {
     "name": "stdout",
     "output_type": "stream",
     "text": [
      "\n",
      "Sum of Random Array and Ones Array:\n",
      "[[ 4.  6.  2. 10.  2.]\n",
      " [10.  4.  8.  7.  9.]\n",
      " [ 8.  5.  2.  5.  8.]]\n"
     ]
    }
   ],
   "source": [
    "# Add the two arrays together\n",
    "sum_array = random_array_2 + ones_array\n",
    "print(\"\\nSum of Random Array and Ones Array:\")\n",
    "print(sum_array)\n"
   ]
  },
  {
   "cell_type": "code",
   "execution_count": 25,
   "metadata": {
    "id": "nVZH7iNufTbv"
   },
   "outputs": [
    {
     "name": "stdout",
     "output_type": "stream",
     "text": [
      "\n",
      "Ones Array (5x3):\n",
      "[[1. 1. 1.]\n",
      " [1. 1. 1.]\n",
      " [1. 1. 1.]\n",
      " [1. 1. 1.]\n",
      " [1. 1. 1.]]\n"
     ]
    }
   ],
   "source": [
    "# Create another array of ones of shape (5, 3)\n",
    "ones_array_2 = np.ones((5, 3))\n",
    "print(\"\\nOnes Array (5x3):\")\n",
    "print(ones_array_2)"
   ]
  },
  {
   "cell_type": "code",
   "execution_count": 29,
   "metadata": {
    "id": "HmOFWmMyfTbv",
    "scrolled": true
   },
   "outputs": [
    {
     "name": "stdout",
     "output_type": "stream",
     "text": [
      "\n",
      "Error: Arrays cannot be added due to incompatible shapes.\n",
      "operands could not be broadcast together with shapes (3,5) (5,3) \n"
     ]
    }
   ],
   "source": [
    "# Try add the array of ones and the other most recent array together\n",
    "try:\n",
    "    sum_invalid = random_array_2 + ones_array_2\n",
    "    print(\"\\nSum of Incompatible Arrays:\")\n",
    "    print(sum_invalid)\n",
    "except ValueError as e:\n",
    "    print(\"\\nError: Arrays cannot be added due to incompatible shapes.\")\n",
    "    print(e)"
   ]
  },
  {
   "cell_type": "markdown",
   "metadata": {
    "id": "co_mBPLFfTbv"
   },
   "source": [
    "When you try the last cell, it produces an error. Why do think this is?\n",
    "\n",
    "How would you fix it?"
   ]
  },
  {
   "cell_type": "markdown",
   "metadata": {
    "id": "co_mBPLFfTbv"
   },
   "source": [
    "The error occurs because array broadcasting rules in NumPy require that arrays have compatible shapes when performing element-wise operations.\n",
    "\n",
    "### Why does the error happen?\n",
    "- random_array_2 has shape (3, 5)\n",
    "- ones_array_2 has shape (5, 3)\n",
    "- Since the number of columns and rows are different, NumPy cannot automatically align the elements for addition.\n",
    "\n",
    "\n",
    "### How to fix it?\n",
    "There are two main ways to fix this issue:\n",
    "\n",
    "1. Transpose one of the arrays to match the shape\n",
    "We can use .T to transpose ones_array_2 so that it has shape (3, 5) instead of (5,3):"
   ]
  },
  {
   "cell_type": "code",
   "execution_count": 27,
   "metadata": {},
   "outputs": [
    {
     "name": "stdout",
     "output_type": "stream",
     "text": [
      "\n",
      "Fixed Sum by Transposing the Ones Array:\n",
      "[[ 4.  6.  2. 10.  2.]\n",
      " [10.  4.  8.  7.  9.]\n",
      " [ 8.  5.  2.  5.  8.]]\n"
     ]
    }
   ],
   "source": [
    "fixed_sum = random_array_2 + ones_array_2.T\n",
    "print(\"\\nFixed Sum by Transposing the Ones Array:\")\n",
    "print(fixed_sum)"
   ]
  },
  {
   "cell_type": "markdown",
   "metadata": {},
   "source": [
    "Now both arrays have shape (3,5), so addition works."
   ]
  },
  {
   "cell_type": "markdown",
   "metadata": {},
   "source": [
    "2. Reshape one of the arrays to match the other\n",
    "We can reshape ones_array_2 to (3,5) instead of (5,3):"
   ]
  },
  {
   "cell_type": "code",
   "execution_count": 28,
   "metadata": {},
   "outputs": [
    {
     "name": "stdout",
     "output_type": "stream",
     "text": [
      "\n",
      "Fixed Sum by Reshaping the Ones Array:\n",
      "[[ 4.  6.  2. 10.  2.]\n",
      " [10.  4.  8.  7.  9.]\n",
      " [ 8.  5.  2.  5.  8.]]\n"
     ]
    }
   ],
   "source": [
    "reshaped_ones = ones_array_2.reshape(3, 5)\n",
    "fixed_sum_reshaped = random_array_2 + reshaped_ones\n",
    "print(\"\\nFixed Sum by Reshaping the Ones Array:\")\n",
    "print(fixed_sum_reshaped)"
   ]
  },
  {
   "cell_type": "markdown",
   "metadata": {},
   "source": [
    "This ensures both arrays have the same shape."
   ]
  },
  {
   "cell_type": "markdown",
   "metadata": {},
   "source": [
    "## Final Answer:\n",
    "The error occurs because the two arrays have incompatible shapes, violating NumPy’s broadcasting rules. The solution is either to transpose (.T) or reshape (.reshape()) one of the arrays to ensure they match in shape."
   ]
  },
  {
   "cell_type": "code",
   "execution_count": 30,
   "metadata": {
    "id": "RlT7V6u7fTbw"
   },
   "outputs": [],
   "source": [
    "# Create another array of ones of shape (3, 5)\n",
    "ones_array_new = np.ones((3, 5))\n"
   ]
  },
  {
   "cell_type": "code",
   "execution_count": 43,
   "metadata": {
    "id": "wFTOa_GpfTbw"
   },
   "outputs": [
    {
     "name": "stdout",
     "output_type": "stream",
     "text": [
      "Subtracted Array:\n",
      " [[2. 4. 0. 8. 0.]\n",
      " [8. 2. 6. 5. 7.]\n",
      " [6. 3. 0. 3. 6.]]\n"
     ]
    }
   ],
   "source": [
    "# Subtract the new array of ones from the other most recent array\n",
    "subtracted_array = random_array_2 - ones_array_new\n",
    "print(\"Subtracted Array:\\n\", subtracted_array)"
   ]
  },
  {
   "cell_type": "code",
   "execution_count": 44,
   "metadata": {
    "id": "e_4eSPmPfTbw"
   },
   "outputs": [
    {
     "name": "stdout",
     "output_type": "stream",
     "text": [
      "\n",
      "Multiplied Array:\n",
      " [[3. 5. 1. 9. 1.]\n",
      " [9. 3. 7. 6. 8.]\n",
      " [7. 4. 1. 4. 7.]]\n"
     ]
    }
   ],
   "source": [
    "# Multiply the ones array with the latest array\n",
    "multiplied_array = random_array_2 * ones_array_new\n",
    "print(\"\\nMultiplied Array:\\n\", multiplied_array)\n"
   ]
  },
  {
   "cell_type": "code",
   "execution_count": 45,
   "metadata": {
    "id": "caPsPFq9fTbw"
   },
   "outputs": [
    {
     "name": "stdout",
     "output_type": "stream",
     "text": [
      "\n",
      "Powered Array (using '**'):\n",
      " [[ 9 25  1 81  1]\n",
      " [81  9 49 36 64]\n",
      " [49 16  1 16 49]]\n"
     ]
    }
   ],
   "source": [
    "# Take the latest array to the power of 2 using '**'\n",
    "powered_array = random_array_2 ** 2\n",
    "print(\"\\nPowered Array (using '**'):\\n\", powered_array)\n"
   ]
  },
  {
   "cell_type": "code",
   "execution_count": 46,
   "metadata": {
    "id": "0rzi-1yrfTbw"
   },
   "outputs": [
    {
     "name": "stdout",
     "output_type": "stream",
     "text": [
      "\n",
      "Squared Array (using np.square()):\n",
      " [[ 9 25  1 81  1]\n",
      " [81  9 49 36 64]\n",
      " [49 16  1 16 49]]\n"
     ]
    }
   ],
   "source": [
    "# Do the same thing with np.square()\n",
    "squared_array = np.square(random_array_2)\n",
    "print(\"\\nSquared Array (using np.square()):\\n\", squared_array)\n"
   ]
  },
  {
   "cell_type": "code",
   "execution_count": 47,
   "metadata": {
    "id": "GMbRvmxNfTbx"
   },
   "outputs": [
    {
     "name": "stdout",
     "output_type": "stream",
     "text": [
      "\n",
      "Mean Value: 5.0\n"
     ]
    }
   ],
   "source": [
    "# Find the mean of the latest array using np.mean()\n",
    "mean_value = np.mean(random_array_2)\n",
    "print(\"\\nMean Value:\", mean_value)\n"
   ]
  },
  {
   "cell_type": "code",
   "execution_count": 48,
   "metadata": {
    "id": "MjB0DoitfTbx"
   },
   "outputs": [
    {
     "name": "stdout",
     "output_type": "stream",
     "text": [
      "Max Value: 9\n"
     ]
    }
   ],
   "source": [
    "# Find the maximum of the latest array using np.max()\n",
    "max_value = np.max(random_array_2)\n",
    "print(\"Max Value:\", max_value)\n"
   ]
  },
  {
   "cell_type": "code",
   "execution_count": 49,
   "metadata": {
    "id": "2yHSazzofTbx"
   },
   "outputs": [
    {
     "name": "stdout",
     "output_type": "stream",
     "text": [
      "Min Value: 1\n"
     ]
    }
   ],
   "source": [
    "# Find the minimum of the latest array using np.min()\n",
    "min_value = np.min(random_array_2)\n",
    "print(\"Min Value:\", min_value)\n"
   ]
  },
  {
   "cell_type": "code",
   "execution_count": 50,
   "metadata": {
    "id": "afzZ3V5LfTbx"
   },
   "outputs": [
    {
     "name": "stdout",
     "output_type": "stream",
     "text": [
      "Standard Deviation: 2.7325202042558927\n"
     ]
    }
   ],
   "source": [
    "# Find the standard deviation of the latest array\n",
    "std_dev = np.std(random_array_2)\n",
    "print(\"Standard Deviation:\", std_dev)\n"
   ]
  },
  {
   "cell_type": "code",
   "execution_count": 51,
   "metadata": {
    "id": "GmB9Ejt8fTbx"
   },
   "outputs": [
    {
     "name": "stdout",
     "output_type": "stream",
     "text": [
      "Variance: 7.466666666666667\n"
     ]
    }
   ],
   "source": [
    "# Find the variance of the latest array\n",
    "variance = np.var(random_array_2)\n",
    "print(\"Variance:\", variance)\n"
   ]
  },
  {
   "cell_type": "code",
   "execution_count": 52,
   "metadata": {
    "id": "7ilFooDsfTby"
   },
   "outputs": [
    {
     "name": "stdout",
     "output_type": "stream",
     "text": [
      "\n",
      "Reshaped Array (3,5,1):\n",
      " [[[3]\n",
      "  [5]\n",
      "  [1]\n",
      "  [9]\n",
      "  [1]]\n",
      "\n",
      " [[9]\n",
      "  [3]\n",
      "  [7]\n",
      "  [6]\n",
      "  [8]]\n",
      "\n",
      " [[7]\n",
      "  [4]\n",
      "  [1]\n",
      "  [4]\n",
      "  [7]]]\n"
     ]
    }
   ],
   "source": [
    "# Reshape the latest array to (3, 5, 1)\n",
    "reshaped_array = random_array_2.reshape(3, 5, 1)\n",
    "print(\"\\nReshaped Array (3,5,1):\\n\", reshaped_array)\n"
   ]
  },
  {
   "cell_type": "code",
   "execution_count": 53,
   "metadata": {
    "id": "nd02portfTby"
   },
   "outputs": [
    {
     "name": "stdout",
     "output_type": "stream",
     "text": [
      "\n",
      "Transposed Array:\n",
      " [[3 9 7]\n",
      " [5 3 4]\n",
      " [1 7 1]\n",
      " [9 6 4]\n",
      " [1 8 7]]\n"
     ]
    }
   ],
   "source": [
    "# Transpose the latest array\n",
    "transposed_array = random_array_2.T\n",
    "print(\"\\nTransposed Array:\\n\", transposed_array)\n"
   ]
  },
  {
   "cell_type": "markdown",
   "metadata": {
    "id": "P2DimcUcfTby"
   },
   "source": [
    "What does the transpose do?"
   ]
  },
  {
   "cell_type": "code",
   "execution_count": null,
   "metadata": {
    "id": "j9DP0mrbfTby"
   },
   "outputs": [],
   "source": [
    "# Create two arrays of random integers between 0 to 10\n",
    "# one of size (3, 3) the other of size (3, 2)\n"
   ]
  },
  {
   "cell_type": "code",
   "execution_count": null,
   "metadata": {
    "id": "2WCHauyLfTby"
   },
   "outputs": [],
   "source": [
    "# Perform a dot product on the two newest arrays you created\n"
   ]
  },
  {
   "cell_type": "code",
   "execution_count": null,
   "metadata": {
    "id": "3rxnlimCfTb4"
   },
   "outputs": [],
   "source": [
    "# Create two arrays of random integers between 0 to 10\n",
    "# both of size (4, 3)\n"
   ]
  },
  {
   "cell_type": "code",
   "execution_count": null,
   "metadata": {
    "id": "m7bUGW6PfTb5"
   },
   "outputs": [],
   "source": [
    "# Perform a dot product on the two newest arrays you created\n"
   ]
  },
  {
   "cell_type": "markdown",
   "metadata": {
    "id": "oD3aS89OfTb5"
   },
   "source": [
    "It doesn't work. How would you fix it?"
   ]
  },
  {
   "cell_type": "code",
   "execution_count": null,
   "metadata": {
    "id": "J2J2_5FBfTb5"
   },
   "outputs": [],
   "source": [
    "# Take the latest two arrays, perform a transpose on one of them and then perform\n",
    "# a dot product on them both\n"
   ]
  },
  {
   "cell_type": "markdown",
   "metadata": {
    "id": "5do7jUOWfTb5"
   },
   "source": [
    "Notice how performing a transpose allows the dot product to happen.\n",
    "\n",
    "Why is this?\n",
    "\n",
    "Checking out the documentation on [`np.dot()`](https://docs.scipy.org/doc/numpy/reference/generated/numpy.dot.html) may help, as well as reading [Math is Fun's guide on the dot product](https://www.mathsisfun.com/algebra/vectors-dot-product.html).\n",
    "\n",
    "Let's now compare arrays."
   ]
  },
  {
   "cell_type": "code",
   "execution_count": null,
   "metadata": {
    "id": "godLR4dqfTb6"
   },
   "outputs": [],
   "source": [
    "# Create two arrays of random integers between 0 & 10 of the same shape\n",
    "# and save them to variables\n"
   ]
  },
  {
   "cell_type": "code",
   "execution_count": null,
   "metadata": {
    "id": "5Y7zwYVPfTb6"
   },
   "outputs": [],
   "source": [
    "# Compare the two arrays with '>'\n"
   ]
  },
  {
   "cell_type": "markdown",
   "metadata": {
    "id": "D5uBob1kfTb6"
   },
   "source": [
    "What happens when you compare the arrays with `>`?"
   ]
  },
  {
   "cell_type": "code",
   "execution_count": null,
   "metadata": {
    "id": "5oDhMU9yfTb7"
   },
   "outputs": [],
   "source": [
    "# Compare the two arrays with '>='\n"
   ]
  },
  {
   "cell_type": "code",
   "execution_count": null,
   "metadata": {
    "id": "DUNKArkEfTb7"
   },
   "outputs": [],
   "source": [
    "# Find which elements of the first array are greater than 7\n"
   ]
  },
  {
   "cell_type": "code",
   "execution_count": null,
   "metadata": {
    "id": "baBmc-pdfTb7"
   },
   "outputs": [],
   "source": [
    "# Which parts of each array are equal? (try using '==')\n"
   ]
  },
  {
   "cell_type": "code",
   "execution_count": null,
   "metadata": {
    "id": "jsKQomHafTb7"
   },
   "outputs": [],
   "source": [
    "# Sort one of the arrays you just created in ascending order\n"
   ]
  },
  {
   "cell_type": "code",
   "execution_count": null,
   "metadata": {
    "id": "_hrxOuaVfTb8"
   },
   "outputs": [],
   "source": [
    "# Sort the indexes of one of the arrays you just created\n"
   ]
  },
  {
   "cell_type": "code",
   "execution_count": null,
   "metadata": {
    "id": "mpT3-nXufTb8"
   },
   "outputs": [],
   "source": [
    "# Find the index with the maximum value in one of the arrays you've created\n"
   ]
  },
  {
   "cell_type": "code",
   "execution_count": null,
   "metadata": {
    "id": "S1cmcEWDfTb8"
   },
   "outputs": [],
   "source": [
    "# Find the index with the minimum value in one of the arrays you've created\n"
   ]
  },
  {
   "cell_type": "code",
   "execution_count": null,
   "metadata": {
    "id": "MmX-Ezy_fTb8"
   },
   "outputs": [],
   "source": [
    "# Find the indexes with the maximum values down the 1st axis (axis=1)\n",
    "# of one of the arrays you created\n"
   ]
  },
  {
   "cell_type": "code",
   "execution_count": null,
   "metadata": {
    "id": "enpHvE6kfTb9"
   },
   "outputs": [],
   "source": [
    "# Find the indexes with the minimum values across the 0th axis (axis=0)\n",
    "# of one of the arrays you created\n"
   ]
  },
  {
   "cell_type": "code",
   "execution_count": null,
   "metadata": {
    "id": "ZV2qY-FGfTb9"
   },
   "outputs": [],
   "source": [
    "# Create an array of normally distributed random numbers\n"
   ]
  },
  {
   "cell_type": "code",
   "execution_count": null,
   "metadata": {
    "id": "908rVEKRfTb9"
   },
   "outputs": [],
   "source": [
    "# Create an array with 10 evenly spaced numbers between 1 and 100\n"
   ]
  },
  {
   "cell_type": "markdown",
   "metadata": {
    "id": "2lKGvVH-fTb9"
   },
   "source": [
    "## Extensions\n",
    "\n",
    "For more exercises, check out the [NumPy quickstart tutorial](https://numpy.org/doc/stable/user/quickstart.html). A good practice would be to read through it and for the parts you find interesting, add them into the end of this notebook.\n",
    "\n",
    "Pay particular attention to the section on broadcasting. And most importantly, get hands-on with the code as much as possible. If in dobut, run the code, see what it does.\n",
    "\n",
    "The next place you could go is the [Stack Overflow page for the top questions and answers for NumPy](https://stackoverflow.com/questions/tagged/numpy?sort=MostVotes&edited=true). Often, you'll find some of the most common and useful NumPy functions here. Don't forget to play around with the filters! You'll likely find something helpful here.\n",
    "\n",
    "Finally, as always, remember, the best way to learn something new is to try it. And try it relentlessly. If you get interested in some kind of NumPy function, asking yourself, \"I wonder if NumPy could do that?\", go and find out."
   ]
  },
  {
   "cell_type": "code",
   "execution_count": null,
   "metadata": {
    "id": "qjMk9K6XfTb-"
   },
   "outputs": [],
   "source": []
  }
 ],
 "metadata": {
  "colab": {
   "provenance": []
  },
  "kernelspec": {
   "display_name": "Python 3 (ipykernel)",
   "language": "python",
   "name": "python3"
  },
  "language_info": {
   "codemirror_mode": {
    "name": "ipython",
    "version": 3
   },
   "file_extension": ".py",
   "mimetype": "text/x-python",
   "name": "python",
   "nbconvert_exporter": "python",
   "pygments_lexer": "ipython3",
   "version": "3.12.6"
  }
 },
 "nbformat": 4,
 "nbformat_minor": 4
}
